{
  "cells": [
    {
      "cell_type": "code",
      "execution_count": 1,
      "metadata": {
        "id": "d2EAjbBqn4D9"
      },
      "outputs": [],
      "source": [
        "import numpy as np\n",
        "from sympy import Matrix\n",
        "import matplotlib.pyplot as plt\n",
        "import seaborn as sns\n"
      ]
    },
    {
      "cell_type": "code",
      "execution_count": 13,
      "metadata": {
        "colab": {
          "base_uri": "https://localhost:8080/"
        },
        "id": "iqRr8Zuxp8FU",
        "outputId": "1050cbbe-60d7-471d-9c8f-71d598ad3664"
      },
      "outputs": [
        {
          "name": "stdout",
          "output_type": "stream",
          "text": [
            "[[ 9 10  1]\n",
            " [43 41 37]\n",
            " [17 37 48]]\n"
          ]
        }
      ],
      "source": [

        "###Task 01 : Use numpy to create a 3×3 matrix of random integers between 1 and 50.\n",
        "Matrix = np.random.randint(1, 50, (3, 3))\n",
        "print(Matrix)"
      ]
    },
    {
      "cell_type": "code",
      "execution_count": 14,
      "metadata": {
        "colab": {
          "base_uri": "https://localhost:8080/"
        },
        "id": "DFa3J4rxrSrW",
        "outputId": "85df93a4-6525-4493-c510-af92decf16ae"
      },
      "outputs": [
        {
          "name": "stdout",
          "output_type": "stream",
          "text": [
            "[[10 37 16]\n",
            " [ 1 29 26]\n",
            " [30 49 30]]\n"
          ]
        }
      ],
      "source": [


        "###Task 2 : Use numpy to create a 3×3 matrix of random integers between 1 and 50. With a fixed seed (`np.random.seed(10)`) to ensure reproducibility.\n",
        "np.random.seed(10)\n",
        "Matrix = np.random.randint(1, 50, (3, 3))\n",
        "print(Matrix)"
      ]
    },
    {
      "cell_type": "markdown",
      "metadata": {
        "id": "iei_rL36rxKR"
      },
      "source": [
        "Task 1: Generating a Random Matrix Without a Fixed Seed\n",
        "When generating a 3×3 matrix of random integers between 1 and 50 without setting a seed, the output changes every time the code runs.\n",
        "\n",
        "This is because NumPy initializes its random number generator differently on each execution, producing a unique set of values. This behavior is useful for:\n",
        "\n",
        "Simulations requiring fresh randomness\n",
        "Data augmentation in machine learning\n",
        "Generating unpredictable test cases\n",
        "Task 2: Generating a Random Matrix With a Fixed Seed (np.random.seed(10))\n",
        "By setting a seed (np.random.seed(10)) before generating the matrix, we ensure the same numbers are produced every time the code runs.\n",
        "\n",
        "How It Works:\n",
        "NumPy’s random number generator relies on a mathematical formula.\n",
        "A seed acts as a starting point, dictating the sequence of random numbers.\n",
        "With a fixed seed, NumPy generates identical outputs across multiple runs.\n",
        "Why Use a Seed?\n",
        "✔ Reproducibility: Ensures consistent results for testing and debugging.\n",
        "✔ Consistency: Different users running the same code get identical outputs.\n",
        "✔ Controlled Randomness: Useful in research, simulations, and machine learning where repeatability matters.\n",
        "\n",
        "This approach balances randomness and predictability, allowing for both fresh data generation and controlled experiments.\n",
        "\n",
        "\n",
        "\n",
        "\n",
        "\n",
        "\n",
        "\n"
      ]
    }
  ],
  "metadata": {
    "colab": {
      "provenance": []
    },
    "kernelspec": {
      "display_name": "Python 3",
      "name": "python3"
    },
    "language_info": {
      "name": "python"
    }
  },
  "nbformat": 4,
  "nbformat_minor": 0
}
