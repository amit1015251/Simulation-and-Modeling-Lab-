{
 "cells": [
  {
   "cell_type": "code",
   "execution_count": null,
   "metadata": {},
   "outputs": [],
   "source": [
    "import numpy as np\n",
    "from scipy.stats import kstest, norm\n",
    "import matplotlib.pyplot as plt\n",
    "\n",
    "temperature_data = np.array([15, 17, 16, 14, 18, 20, 19, 15, 21, 22])\n",
    "\n",
    "print(\"Temperature Scores (°C):\", temperature_data)\n",
    "\n",
    "mean_temp = np.mean(temperature_data)\n",
    "std_temp = np.std(temperature_data)\n",
    "scaled_temps = (temperature_data - mean_temp) / std_temp\n",
    "print(f\"Mean: {mean_temp:.2f}, Std Dev: {std_temp:.2f}\")\n",
    "print(\"Scaled Temperatures (Standardized):\", scaled_temps)\n",
    "\n",
    "ks_result = kstest(scaled_temps, 'norm')\n",
    "\n",
    "print(f\"Test decision (h): {int(ks_result.pvalue < 0.05)}\")\n",
    "print(f\"p-value: {ks_result.pvalue:.4f}\")\n",
    "print(f\"KS statistic: {ks_result.statistic:.4f}\")\n",
    "\n",
    "sorted_scaled = np.sort(scaled_temps)\n",
    "ecdf_y = np.arange(1, len(sorted_scaled)+1) / len(sorted_scaled)\n",
    "normal_cdf = norm.cdf(sorted_scaled)\n",
    "\n",
    "plt.figure(figsize=(8, 5))\n",
    "plt.plot(sorted_scaled, ecdf_y, label='Empirical CDF', color='blue', linewidth=2)\n",
    "plt.plot(sorted_scaled, normal_cdf, label='Standard Normal CDF', color='red', linestyle='--', linewidth=2)\n",
    "plt.title(\"K-S Test: Empirical vs Standard Normal CDF\")\n",
    "plt.xlabel(\"Scaled Temperature Data\")\n",
    "plt.ylabel(\"Cumulative Probability\")\n",
    "plt.legend(loc='lower right')\n",
    "plt.grid(True)\n",
    "plt.show()\n"
   ]
  }
 ],
 "metadata": {
  "language_info": {
   "name": "plaintext"
  },
  "orig_nbformat": 4
 },
 "nbformat": 4,
 "nbformat_minor": 2
}
